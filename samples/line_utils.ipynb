{
 "cells": [
  {
   "cell_type": "code",
   "execution_count": 1,
   "metadata": {},
   "outputs": [],
   "source": [
    "import sys\n",
    "sys.path.append('../')"
   ]
  },
  {
   "cell_type": "code",
   "execution_count": 2,
   "metadata": {},
   "outputs": [],
   "source": [
    "import pandas as pd\n",
    "import numpy as np"
   ]
  },
  {
   "cell_type": "code",
   "execution_count": 3,
   "metadata": {},
   "outputs": [],
   "source": [
    "from utils.line_utils import Line\n",
    "from utils.perceptron import build_step_perceptron, __add_bias__"
   ]
  },
  {
   "cell_type": "code",
   "execution_count": 4,
   "metadata": {},
   "outputs": [],
   "source": [
    "and_df = pd.DataFrame(data={\n",
    "    \"in_1\" : [-1, -1,  1,  1],\n",
    "    \"in_2\" : [-1,  1, -1,  1],\n",
    "    \"out\"  : [-1, -1, -1,  1]\n",
    "})"
   ]
  },
  {
   "cell_type": "code",
   "execution_count": 5,
   "metadata": {},
   "outputs": [
    {
     "data": {
      "text/html": [
       "<div>\n",
       "<style scoped>\n",
       "    .dataframe tbody tr th:only-of-type {\n",
       "        vertical-align: middle;\n",
       "    }\n",
       "\n",
       "    .dataframe tbody tr th {\n",
       "        vertical-align: top;\n",
       "    }\n",
       "\n",
       "    .dataframe thead th {\n",
       "        text-align: right;\n",
       "    }\n",
       "</style>\n",
       "<table border=\"1\" class=\"dataframe\">\n",
       "  <thead>\n",
       "    <tr style=\"text-align: right;\">\n",
       "      <th></th>\n",
       "      <th>in_1</th>\n",
       "      <th>in_2</th>\n",
       "      <th>out</th>\n",
       "    </tr>\n",
       "  </thead>\n",
       "  <tbody>\n",
       "    <tr>\n",
       "      <th>0</th>\n",
       "      <td>-1</td>\n",
       "      <td>-1</td>\n",
       "      <td>-1</td>\n",
       "    </tr>\n",
       "    <tr>\n",
       "      <th>1</th>\n",
       "      <td>-1</td>\n",
       "      <td>1</td>\n",
       "      <td>-1</td>\n",
       "    </tr>\n",
       "    <tr>\n",
       "      <th>2</th>\n",
       "      <td>1</td>\n",
       "      <td>-1</td>\n",
       "      <td>-1</td>\n",
       "    </tr>\n",
       "    <tr>\n",
       "      <th>3</th>\n",
       "      <td>1</td>\n",
       "      <td>1</td>\n",
       "      <td>1</td>\n",
       "    </tr>\n",
       "  </tbody>\n",
       "</table>\n",
       "</div>"
      ],
      "text/plain": [
       "   in_1  in_2  out\n",
       "0    -1    -1   -1\n",
       "1    -1     1   -1\n",
       "2     1    -1   -1\n",
       "3     1     1    1"
      ]
     },
     "execution_count": 5,
     "metadata": {},
     "output_type": "execute_result"
    }
   ],
   "source": [
    "and_df"
   ]
  },
  {
   "cell_type": "code",
   "execution_count": 6,
   "metadata": {},
   "outputs": [],
   "source": [
    "p, _, _ = build_step_perceptron(and_df, \"out\", 0.001, iters=None)"
   ]
  },
  {
   "cell_type": "code",
   "execution_count": 7,
   "metadata": {},
   "outputs": [
    {
     "data": {
      "text/plain": [
       "array([[ 0.2489562 ,  0.00266359, -0.24901576]])"
      ]
     },
     "execution_count": 7,
     "metadata": {},
     "output_type": "execute_result"
    }
   ],
   "source": [
    "p.w"
   ]
  },
  {
   "cell_type": "code",
   "execution_count": 8,
   "metadata": {},
   "outputs": [
    {
     "data": {
      "image/png": "[encoded data removed]",
      "text/plain": [
       "<Figure size 640x480 with 1 Axes>"
      ]
     },
     "metadata": {},
     "output_type": "display_data"
    }
   ],
   "source": [
    "import seaborn as sns\n",
    "import matplotlib.pyplot as plt\n",
    "\n",
    "line_x = np.linspace(-5, 5, 20, True)\n",
    "line_y = np.zeros(line_x.shape)\n",
    "for i in range(line_x.shape[0]):\n",
    "    line_y[i] = -(p.w[0][0]/p.w[0][1])*line_x[i] - (p.w[0][2]/p.w[0][1])\n",
    "    \n",
    "sns.set_style(\"darkgrid\")\n",
    "sns.scatterplot(and_df, x=\"in_1\", y=\"in_2\", hue=\"out\", palette=sns.color_palette(None, 2))\n",
    "plt.plot(line_x, line_y, color=\"purple\")\n",
    "plt.ylim((-1.1, 1.1))\n",
    "plt.xlim((-1.1, 1.1))\n",
    "plt.xlabel(\"Entrada 1\")\n",
    "plt.ylabel(\"Entrada 2\")\n",
    "plt.legend(title=\"Salida\", bbox_to_anchor=(1.04, 1), loc=\"upper left\")\n",
    "plt.show()"
   ]
  },
  {
   "cell_type": "code",
   "execution_count": 9,
   "metadata": {},
   "outputs": [],
   "source": [
    "line = Line(p.w)"
   ]
  },
  {
   "cell_type": "code",
   "execution_count": 10,
   "metadata": {},
   "outputs": [
    {
     "data": {
      "text/plain": [
       "-2.0108232307490406"
      ]
     },
     "execution_count": 10,
     "metadata": {},
     "output_type": "execute_result"
    }
   ],
   "source": [
    "line.distance_to(np.array([-1, -1]))"
   ]
  },
  {
   "cell_type": "code",
   "execution_count": 11,
   "metadata": {},
   "outputs": [
    {
     "data": {
      "text/plain": [
       "0.01045917584903111"
      ]
     },
     "execution_count": 11,
     "metadata": {},
     "output_type": "execute_result"
    }
   ],
   "source": [
    "line.distance_to(np.array([1, 1]))"
   ]
  },
  {
   "cell_type": "code",
   "execution_count": 12,
   "metadata": {},
   "outputs": [
    {
     "data": {
      "text/plain": [
       "-1.9894263644033567"
      ]
     },
     "execution_count": 12,
     "metadata": {},
     "output_type": "execute_result"
    }
   ],
   "source": [
    "line.distance_to(np.array([-1, 1]))"
   ]
  },
  {
   "cell_type": "code",
   "execution_count": 13,
   "metadata": {},
   "outputs": [
    {
     "data": {
      "text/plain": [
       "-0.01093769049665283"
      ]
     },
     "execution_count": 13,
     "metadata": {},
     "output_type": "execute_result"
    }
   ],
   "source": [
    "line.distance_to(np.array([1, -1]))"
   ]
  },
  {
   "cell_type": "code",
   "execution_count": 14,
   "metadata": {},
   "outputs": [],
   "source": [
    "from utils.line_utils import maximize_step_perceptron_line_margin"
   ]
  },
  {
   "cell_type": "code",
   "execution_count": 15,
   "metadata": {},
   "outputs": [
    {
     "ename": "IndexError",
     "evalue": "too many indices for array: array is 1-dimensional, but 2 were indexed",
     "output_type": "error",
     "traceback": [
      "\u001b[0;31m---------------------------------------------------------------------------\u001b[0m",
      "\u001b[0;31mIndexError\u001b[0m                                Traceback (most recent call last)",
      "Cell \u001b[0;32mIn[15], line 1\u001b[0m\n\u001b[0;32m----> 1\u001b[0m p_max, margin, chosen_points \u001b[39m=\u001b[39m maximize_step_perceptron_line_margin(and_df, \u001b[39m\"\u001b[39;49m\u001b[39mout\u001b[39;49m\u001b[39m\"\u001b[39;49m, p, points2decide\u001b[39m=\u001b[39;49m\u001b[39m3\u001b[39;49m)\n",
      "File \u001b[0;32m~/Git/svm/samples/../utils/line_utils.py:252\u001b[0m, in \u001b[0;36mmaximize_step_perceptron_line_margin\u001b[0;34m(df, out_col, perceptron, points2decide, positive_points2decide, negative_points2decide, only_correct)\u001b[0m\n\u001b[1;32m    250\u001b[0m points, _ \u001b[39m=\u001b[39m sample2points(df, out_col, perceptron, only_correct)\n\u001b[1;32m    251\u001b[0m line \u001b[39m=\u001b[39m step_perceptron_line(perceptron)\n\u001b[0;32m--> 252\u001b[0m pos_idxs, neg_idxs, sign_pos, sign_neg \u001b[39m=\u001b[39m least_dist2line_points_idxs_by_class(points, \n\u001b[1;32m    253\u001b[0m                                                           line, points2decide, \n\u001b[1;32m    254\u001b[0m                                                           positive_points2decide, \n\u001b[1;32m    255\u001b[0m                                                           negative_points2decide)\n\u001b[1;32m    256\u001b[0m margin, line, chosen_points_class_idxs \u001b[39m=\u001b[39m __max_margin_line_by_class_points__(points[pos_idxs], points[neg_idxs], sign_pos, sign_neg)\n\u001b[1;32m    257\u001b[0m max_margin_perceptron \u001b[39m=\u001b[39m Perceptron(line\u001b[39m.\u001b[39mcoefficients(), step_activation)\n",
      "File \u001b[0;32m~/Git/svm/samples/../utils/line_utils.py:151\u001b[0m, in \u001b[0;36mleast_dist2line_points_idxs_by_class\u001b[0;34m(points, line, point_count, positive_points, negative_points)\u001b[0m\n\u001b[1;32m    147\u001b[0m     \u001b[39mraise\u001b[39;00m \u001b[39mValueError\u001b[39;00m(\u001b[39m\"\u001b[39m\u001b[39mMust specify a number of points greater or equal to \u001b[39m\u001b[39m{}\u001b[39;00m\u001b[39m. \u001b[39m\u001b[39m\"\u001b[39m\n\u001b[1;32m    148\u001b[0m                      \u001b[39m\"\u001b[39m\u001b[39mSpecified \u001b[39m\u001b[39m{}\u001b[39;00m\u001b[39m\"\u001b[39m\u001b[39m.\u001b[39mformat(\u001b[39m3\u001b[39m, point_count))\n\u001b[1;32m    150\u001b[0m \u001b[39mif\u001b[39;00m positive_and_negative_points_are_none:\n\u001b[0;32m--> 151\u001b[0m     \u001b[39mreturn\u001b[39;00m __least_dist2line_points_idxs_by_class_for_all__(points, line, point_count)\n\u001b[1;32m    153\u001b[0m \u001b[39mif\u001b[39;00m positive_points \u001b[39mis\u001b[39;00m \u001b[39mNone\u001b[39;00m \u001b[39mand\u001b[39;00m negative_points \u001b[39mis\u001b[39;00m \u001b[39mnot\u001b[39;00m \u001b[39mNone\u001b[39;00m:\n\u001b[1;32m    154\u001b[0m     positive_points \u001b[39m=\u001b[39m point_count \u001b[39m-\u001b[39m negative_points\n",
      "File \u001b[0;32m~/Git/svm/samples/../utils/line_utils.py:118\u001b[0m, in \u001b[0;36m__least_dist2line_points_idxs_by_class_for_all__\u001b[0;34m(points, line, point_count)\u001b[0m\n\u001b[1;32m    115\u001b[0m some_negative \u001b[39m=\u001b[39m np\u001b[39m.\u001b[39many(selected_dists_neg_cond)\n\u001b[1;32m    116\u001b[0m \u001b[39mif\u001b[39;00m some_positive \u001b[39mand\u001b[39;00m some_negative:\n\u001b[1;32m    117\u001b[0m     \u001b[39mreturn\u001b[39;00m dist_idxs[selected_dists_pos_cond], dist_idxs[selected_dists_neg_cond], \\\n\u001b[0;32m--> 118\u001b[0m             np\u001b[39m.\u001b[39mwhere(distances[dist_idxs[[selected_dists_pos_cond]]] \u001b[39m>\u001b[39m\u001b[39m=\u001b[39m \u001b[39m0\u001b[39m, \u001b[39m1\u001b[39m, \u001b[39m-\u001b[39m\u001b[39m1\u001b[39m), np\u001b[39m.\u001b[39mwhere(distances[dist_idxs[[selected_dists_neg_cond]]] \u001b[39m>\u001b[39m\u001b[39m=\u001b[39m \u001b[39m0\u001b[39m, \u001b[39m1\u001b[39m, \u001b[39m-\u001b[39m\u001b[39m1\u001b[39m)\n\u001b[1;32m    120\u001b[0m \u001b[39mif\u001b[39;00m \u001b[39mnot\u001b[39;00m some_positive:\n\u001b[1;32m    121\u001b[0m     other_class_dist_idxs \u001b[39m=\u001b[39m __least_dist_points_idxs_by_class_for_class__(distances, distances \u001b[39m>\u001b[39m\u001b[39m=\u001b[39m \u001b[39m0\u001b[39m, \u001b[39m1\u001b[39m, \u001b[39m\"\u001b[39m\u001b[39mpositive\u001b[39m\u001b[39m\"\u001b[39m)\n",
      "\u001b[0;31mIndexError\u001b[0m: too many indices for array: array is 1-dimensional, but 2 were indexed"
     ]
    }
   ],
   "source": [
    "p_max, margin, points, chosen_points, selected_points = maximize_step_perceptron_line_margin(and_df, \"out\", p, points2decide=3)"
   ]
  },
  {
   "cell_type": "code",
   "execution_count": null,
   "metadata": {},
   "outputs": [
    {
     "data": {
      "text/plain": [
       "array([[-0.70710678, -0.70710678,  0.70710678]])"
      ]
     },
     "execution_count": 16,
     "metadata": {},
     "output_type": "execute_result"
    }
   ],
   "source": [
    "p_max.w"
   ]
  },
  {
   "cell_type": "code",
   "execution_count": null,
   "metadata": {},
   "outputs": [
    {
     "data": {
      "image/png": "[encoded data removed]",
      "text/plain": [
       "<Figure size 640x480 with 1 Axes>"
      ]
     },
     "metadata": {},
     "output_type": "display_data"
    }
   ],
   "source": [
    "import seaborn as sns\n",
    "import matplotlib.pyplot as plt\n",
    "\n",
    "line_x = np.linspace(-5, 5, 20, True)\n",
    "line_y = np.zeros(line_x.shape)\n",
    "for i in range(line_x.shape[0]):\n",
    "    line_y[i] = -(p_max.w[0][0]/p_max.w[0][1])*line_x[i] - (p_max.w[0][2]/p_max.w[0][1])\n",
    "    \n",
    "sns.set_style(\"darkgrid\")\n",
    "sns.scatterplot(and_df, x=\"in_1\", y=\"in_2\", hue=\"out\", palette=sns.color_palette(None, 2))\n",
    "plt.plot(line_x, line_y, color=\"purple\")\n",
    "plt.ylim((-1.1, 1.1))\n",
    "plt.xlim((-1.1, 1.1))\n",
    "plt.xlabel(\"Entrada 1\")\n",
    "plt.ylabel(\"Entrada 2\")\n",
    "plt.legend(title=\"Salida\", bbox_to_anchor=(1.04, 1), loc=\"upper left\")\n",
    "plt.show()"
   ]
  }
 ],
 "metadata": {
  "kernelspec": {
   "display_name": "Python 3",
   "language": "python",
   "name": "python3"
  },
  "language_info": {
   "codemirror_mode": {
    "name": "ipython",
    "version": 3
   },
   "file_extension": ".py",
   "mimetype": "text/x-python",
   "name": "python",
   "nbconvert_exporter": "python",
   "pygments_lexer": "ipython3",
   "version": "3.10.12"
  },
  "orig_nbformat": 4
 },
 "nbformat": 4,
 "nbformat_minor": 2
}
